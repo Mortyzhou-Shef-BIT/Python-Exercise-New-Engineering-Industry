{
 "cells": [
  {
   "cell_type": "markdown",
   "metadata": {},
   "source": [
    "## 第一章：程序设计基本方法"
   ]
  },
  {
   "cell_type": "markdown",
   "metadata": {},
   "source": [
    "### Solution\n",
    "解决Turtle库下载失败问题：https://zhuanlan.zhihu.com/p/114712558\n",
    "\n",
    "如何在Anaconda下载库：https://blog.csdn.net/kaever/article/details/106295926\n",
    "\n",
    "### Before the Tutorial\n",
    "零基础，应当如何开始学习 Python ？\n",
    "\n",
    "1. 找到合适的入门书籍与教程：首先把本课程教材读懂，不懂就百度，太难的内容可以跳过，然后找到推荐书目或网上教程进行辅助理解。\n",
    "2. 做好每次实验：Practice makes perfect.练习对于学好一门语言十分重要，不会就反复练习。\n",
    "3. 保持兴趣，学习解决问题：兴趣是最好的老师，尽量用简单的方式解决问题，减少时间复杂度。\n",
    "4. 学会检索： 大部分问题都能在博客中找到解决方案，遇到问题先百度。\n",
    "\n",
    "#### 推荐书目：\n",
    "* 《笨办法学 Python （Learn Python The Hard Way）》\n",
    "* 《像计算机科学家一样思考Python》"
   ]
  },
  {
   "cell_type": "markdown",
   "metadata": {},
   "source": [
    "#### 推荐课程:\n",
    "Python语言程序设计 北京理工大学 ：https://www.icourse163.org/course/BIT-268001#/info\n",
    "\n",
    "Python语言程序设计 北京理工大学_B站录制版本：https://www.bilibili.com/video/00000BV1gJ411Q7My?from=search&seid=16962515799502322601\n",
    "\n",
    "Python123平台： https://python123.io/"
   ]
  },
  {
   "cell_type": "markdown",
   "metadata": {},
   "source": [
    "### Tutorial - 接下来进入Python的奇妙世界"
   ]
  },
  {
   "cell_type": "markdown",
   "metadata": {},
   "source": [
    "#### 第一行代码\n",
    "\n",
    "Python是脚本语言 + 语句执行，我们本此实验使用Python 3.0+ 版本，其版本已经把 print 作为一个内置函数。\n",
    "\n",
    "如果你是在linux上脚本运行，一定要加上#!/usr/bin/python3"
   ]
  },
  {
   "cell_type": "code",
   "execution_count": 1,
   "metadata": {},
   "outputs": [
    {
     "name": "stdout",
     "output_type": "stream",
     "text": [
      "Hello World\n"
     ]
    }
   ],
   "source": [
    "#!/usr/bin/python3\n",
    "print (\"Hello World\")"
   ]
  },
  {
   "cell_type": "markdown",
   "metadata": {},
   "source": [
    "Python中默认的编码格式是 ASCII 格式，在没修改编码格式时无法正确打印汉字，所以在读取中文时会报错。\n",
    "\n",
    "解决方法为只要在文件开头加入 # -*- coding: UTF-8 -*- 或者 # coding=utf-8 就行了\n",
    "\n",
    "但我们用的是Jupyter Notebook,所以可以省略#!/usr/bin/python3 和# -*- coding: UTF-8 -*-"
   ]
  },
  {
   "cell_type": "code",
   "execution_count": 2,
   "metadata": {},
   "outputs": [
    {
     "name": "stdout",
     "output_type": "stream",
     "text": [
      "Hello World-三体世界真的存在吗？\n"
     ]
    }
   ],
   "source": [
    "#!/usr/bin/python3\n",
    "# -*- coding: UTF-8 -*-\n",
    "print ('Hello World-三体世界真的存在吗？') \n",
    "#Python 不支持单字符类型，单字符在 Python 中也是作为一个字符串使用。"
   ]
  },
  {
   "cell_type": "code",
   "execution_count": 3,
   "metadata": {},
   "outputs": [
    {
     "name": "stdout",
     "output_type": "stream",
     "text": [
      "糊弄学精品词：确实、啊这、是的...\n"
     ]
    }
   ],
   "source": [
    "print(\"糊弄学精品词：确实、啊这、是的...\")"
   ]
  },
  {
   "cell_type": "markdown",
   "metadata": {},
   "source": [
    "我们也可以在print的输出字符内容里面加上一些转义符\n",
    "\n",
    "\\n 是换行符，通常在输出中用作格式控制；\n",
    "\n",
    "\\n就是一个转义字符，其意义是“回车换行”;\n",
    "\n",
    "转义字符以反斜线\\开头，后跟一个或几个字符。"
   ]
  },
  {
   "cell_type": "code",
   "execution_count": 4,
   "metadata": {},
   "outputs": [
    {
     "name": "stdout",
     "output_type": "stream",
     "text": [
      "糊弄学精品词：\n",
      "确实\n",
      "啊这\n",
      "是的\n",
      "...大家学会了吗\n"
     ]
    }
   ],
   "source": [
    "print(\"糊弄学精品词：\\n确实\\n啊这\\n是的\\n...大家学会了吗\")"
   ]
  },
  {
   "cell_type": "markdown",
   "metadata": {},
   "source": [
    "#### Python的简洁 + 强制可读性，你甚至可以把其当作一个计算器"
   ]
  },
  {
   "cell_type": "code",
   "execution_count": 5,
   "metadata": {},
   "outputs": [
    {
     "data": {
      "text/plain": [
       "4"
      ]
     },
     "execution_count": 5,
     "metadata": {},
     "output_type": "execute_result"
    }
   ],
   "source": [
    "2 + 2"
   ]
  },
  {
   "cell_type": "code",
   "execution_count": 6,
   "metadata": {},
   "outputs": [
    {
     "data": {
      "text/plain": [
       "5.0"
      ]
     },
     "execution_count": 6,
     "metadata": {},
     "output_type": "execute_result"
    }
   ],
   "source": [
    "(50 - 5.0*6) / 4"
   ]
  },
  {
   "cell_type": "markdown",
   "metadata": {},
   "source": [
    "2的7次方是多少？"
   ]
  },
  {
   "cell_type": "code",
   "execution_count": 7,
   "metadata": {},
   "outputs": [
    {
     "data": {
      "text/plain": [
       "128"
      ]
     },
     "execution_count": 7,
     "metadata": {},
     "output_type": "execute_result"
    }
   ],
   "source": [
    "2 ** 7 "
   ]
  },
  {
   "cell_type": "markdown",
   "metadata": {},
   "source": [
    "你可以把数值赋值给变量（variable），如计算宽和高的乘积"
   ]
  },
  {
   "cell_type": "code",
   "execution_count": 8,
   "metadata": {},
   "outputs": [
    {
     "data": {
      "text/plain": [
       "900"
      ]
     },
     "execution_count": 8,
     "metadata": {},
     "output_type": "execute_result"
    }
   ],
   "source": [
    "width = 20 # 赋值20给witdth\n",
    "height = 5 * 9 # 赋值 5 * 9 的值给height\n",
    "width * height"
   ]
  },
  {
   "cell_type": "markdown",
   "metadata": {},
   "source": [
    "你可以把变量打印出来验证一下"
   ]
  },
  {
   "cell_type": "code",
   "execution_count": 9,
   "metadata": {},
   "outputs": [
    {
     "name": "stdout",
     "output_type": "stream",
     "text": [
      "9999800001\n"
     ]
    }
   ],
   "source": [
    "sum = 99999 * 99999\n",
    "print(sum)"
   ]
  },
  {
   "cell_type": "code",
   "execution_count": 10,
   "metadata": {},
   "outputs": [
    {
     "name": "stdout",
     "output_type": "stream",
     "text": [
      "width is  20\n",
      "height is  45\n",
      "900\n"
     ]
    }
   ],
   "source": [
    "width = 20 # 赋值20给witdth\n",
    "height = 5 * 9 # 赋值 5 * 9 的值给height\n",
    "print(\"width is \", width)\n",
    "print(\"height is \", height)\n",
    "print(width * height)"
   ]
  },
  {
   "cell_type": "markdown",
   "metadata": {},
   "source": [
    "不仅仅可以计算整数，我们还可以计算浮点数，具有混合类型操作数的运算符，会将整数操作数转换为浮点数"
   ]
  },
  {
   "cell_type": "code",
   "execution_count": 11,
   "metadata": {},
   "outputs": [
    {
     "data": {
      "text/plain": [
       "7.5"
      ]
     },
     "execution_count": 11,
     "metadata": {},
     "output_type": "execute_result"
    }
   ],
   "source": [
    "3 * 3.75 / 1.5"
   ]
  },
  {
   "cell_type": "code",
   "execution_count": 12,
   "metadata": {},
   "outputs": [
    {
     "name": "stdout",
     "output_type": "stream",
     "text": [
      "Apr\n"
     ]
    }
   ],
   "source": [
    "months=\"JanFebMarAprMayJunJulAugSepOctNovDec\" \n",
    "n = 4\n",
    "monthAbbrev = months[(n-1)*3:(n-1)*3+3]\n",
    "print(monthAbbrev)"
   ]
  },
  {
   "cell_type": "code",
   "execution_count": 13,
   "metadata": {},
   "outputs": [
    {
     "name": "stdout",
     "output_type": "stream",
     "text": [
      "4.5\n"
     ]
    }
   ],
   "source": [
    "def mean(numbers):\n",
    "    s = 0.0\n",
    "    for num in numbers:\n",
    "        s = s + num\n",
    "    return s / len(numbers)\n",
    "nums = [0,1,2,3,4,5,6,7,8,9]\n",
    "print(mean(nums))\n"
   ]
  },
  {
   "cell_type": "markdown",
   "metadata": {},
   "source": [
    "#### Python有着丰富的库\n",
    "你可以使用保留字import，和保留字组合from...import...分别来导入你想要函数库。\n",
    "import也可以其他python文件（称为模块module），使用该模块里定义的类、方法或者变量，从而达到代码复用的目的。这是之后进阶的内容。\n",
    "\n",
    "比如\n",
    "\n",
    "math --- 数学函数\n",
    "\n",
    "random --- 生成伪随机数"
   ]
  },
  {
   "cell_type": "code",
   "execution_count": 14,
   "metadata": {},
   "outputs": [
    {
     "name": "stdout",
     "output_type": "stream",
     "text": [
      "5.617173900954542\n"
     ]
    }
   ],
   "source": [
    "#import module_name\n",
    "import random\n",
    "#from random import random\n",
    "rnd = random.random()*10\n",
    "print(rnd)"
   ]
  },
  {
   "cell_type": "code",
   "execution_count": 15,
   "metadata": {},
   "outputs": [
    {
     "name": "stdout",
     "output_type": "stream",
     "text": [
      "6.78291095457358\n"
     ]
    }
   ],
   "source": [
    "from random import random\n",
    "rnd = random()*10\n",
    "print(rnd)"
   ]
  },
  {
   "cell_type": "code",
   "execution_count": 16,
   "metadata": {},
   "outputs": [
    {
     "data": {
      "text/plain": [
       "3.141592653589793"
      ]
     },
     "execution_count": 16,
     "metadata": {},
     "output_type": "execute_result"
    }
   ],
   "source": [
    "import math\n",
    "math.pi"
   ]
  },
  {
   "cell_type": "markdown",
   "metadata": {},
   "source": [
    "记保留字真的好难，如果你想查看保留字，可以这样做，Python 包含的保留字可以执行如下命令进行查看："
   ]
  },
  {
   "cell_type": "code",
   "execution_count": 17,
   "metadata": {},
   "outputs": [
    {
     "name": "stdout",
     "output_type": "stream",
     "text": [
      "['False', 'None', 'True', 'and', 'as', 'assert', 'async', 'await', 'break', 'class', 'continue', 'def', 'del', 'elif', 'else', 'except', 'finally', 'for', 'from', 'global', 'if', 'import', 'in', 'is', 'lambda', 'nonlocal', 'not', 'or', 'pass', 'raise', 'return', 'try', 'while', 'with', 'yield']\n"
     ]
    }
   ],
   "source": [
    "import keyword\n",
    "keyword.kwlist\n",
    "print(keyword.kwlist)"
   ]
  },
  {
   "cell_type": "markdown",
   "metadata": {},
   "source": [
    "#### 海龟绘图教学将在第二章学到"
   ]
  },
  {
   "cell_type": "markdown",
   "metadata": {},
   "source": [
    "## 实验课"
   ]
  },
  {
   "cell_type": "markdown",
   "metadata": {},
   "source": [
    "#### 【微实例1.1】圆面积的计算"
   ]
  },
  {
   "cell_type": "code",
   "execution_count": 18,
   "metadata": {},
   "outputs": [
    {
     "name": "stdout",
     "output_type": "stream",
     "text": [
      "1963.4375000000002\n",
      "1963.44\n"
     ]
    }
   ],
   "source": [
    "radius = 25\n",
    "area = 3.1415 * radius * radius\n",
    "print(area)\n",
    "print(\"{:.2f}\".format(area))"
   ]
  },
  {
   "cell_type": "markdown",
   "metadata": {},
   "source": [
    "#### 扩展练习：关于圆的计算\n",
    "\n",
    "使用math库也可以计算圆周率，且更加方便了，观察以下例子。\n",
    "\n",
    "input()返回的的数据类型是str,要进行数学运算，需要用int()或float()函数，转换成整型或浮点型的数据类型。\n",
    "\n",
    "计算出圆的周长、以该圆半径为半径的球的表面积和体积。补充代码"
   ]
  },
  {
   "cell_type": "code",
   "execution_count": 20,
   "metadata": {},
   "outputs": [
    {
     "name": "stdout",
     "output_type": "stream",
     "text": [
      "请输入半径：1\n",
      "圆的面积: 3.14\n"
     ]
    }
   ],
   "source": [
    "import math\n",
    "r=float(input(\"请输入半径：\"))\n",
    "#circumference= #圆的周长\n",
    "area=math.pi*r*r\n",
    "#sphere_area= #球的表面积\n",
    "#sphere_volume= #球的体积\n",
    "#print ( \"圆的周长: %.2f\" % circumference)\n",
    "print ( \"圆的面积: %.2f\"% area)\n",
    "#print ( \"球的表面积: %.2f\"% sphere_area)\n",
    "#print ( \"球的体积: %.2f\" % sphere_volume)"
   ]
  },
  {
   "cell_type": "markdown",
   "metadata": {},
   "source": [
    "#### 【微实例1.2】简单的人名对话"
   ]
  },
  {
   "cell_type": "code",
   "execution_count": 21,
   "metadata": {},
   "outputs": [
    {
     "name": "stdout",
     "output_type": "stream",
     "text": [
      "输入姓名:令狐冲\n",
      "令狐冲 同学，学好Python，前途无量！\n",
      "令 大侠，学好Python，大展拳脚！\n",
      "狐冲 哥哥，学好Python，人见人爱！\n"
     ]
    }
   ],
   "source": [
    "name = input(\"输入姓名:\")\n",
    "print(\"%s 同学，学好Python，前途无量！\"%name)\n",
    "print(\"%s 大侠，学好Python，大展拳脚！\"%name[0])\n",
    "print(\"%s 哥哥，学好Python，人见人爱！\"%name[1:])"
   ]
  },
  {
   "cell_type": "markdown",
   "metadata": {},
   "source": [
    "#### 思考：对于两字或者四字姓名的人名我们该怎么办？英文姓名怎么办？"
   ]
  },
  {
   "cell_type": "markdown",
   "metadata": {},
   "source": [
    "#### 【微实例1.3】斐波那契数列的计算\n",
    "\n",
    "斐波那契数列（Fibonacci Sequence )，又称为黄金分割数列，由意大利数学 家 Leonardo Fibonacci 于 1202 年提出，并以其名宇命名。该数列 $\\mathrm{F}(n)$ 定义如下:\n",
    "$\\mathrm{F}(0)=0, \\mathrm{~F}(1)=1, \\mathrm{~F}(n)=\\mathrm{F}(n-2)+\\mathrm{F}(n-1),$ 其中 $n \\geqslant 2 。$ 简单说， 斐波那契数列中每个\n",
    "数是前两个数之和。斐波那契数列中邻近两个数的比值接近黄金分割数，即 $\\mathrm{F}(n) / \\mathrm{F}(n-1)$ 接近 $1.618,$ 这个比例的极限值就是黄金分割数。此外，斐波那契数列 有很多特性，所以其在搜索算法、组合数学、现代物理、化学等领域均有应用。 Python 语言在表达和计算传统数学概念上十分简洁，读者可以寻找其他有趣的数\n",
    "学概念，并用 Python 语言计算它们。"
   ]
  },
  {
   "cell_type": "code",
   "execution_count": 22,
   "metadata": {},
   "outputs": [
    {
     "name": "stdout",
     "output_type": "stream",
     "text": [
      "0,1,1,2,3,5,8,13,21,34,55,89,144,233,377,610,987,"
     ]
    }
   ],
   "source": [
    "a, b = 0, 1\n",
    "while a < 1000: # 输出不大于1000 的序列\n",
    "    print(a, end=',')\n",
    "    a, b = b, a + b"
   ]
  },
  {
   "cell_type": "markdown",
   "metadata": {},
   "source": [
    "#### 【微实例1.4】同切圆的绘制"
   ]
  },
  {
   "cell_type": "markdown",
   "metadata": {},
   "source": [
    "Turtle库是Python语言中一个很流行的绘制图像的函数库，想象一个小乌龟，在一个横轴为x、纵轴为y的坐标系原点，(0,0)位置开始，它根据一组函数指令的控制，在这个平面坐标系中移动，从而在它爬行的路径上绘制了图形。\n",
    "\n",
    "turtle.pensize()：设置画笔的宽度；\n",
    "\n",
    "turtle.circle()：画圆，半径为正(负)，表示圆心在画笔的左边(右边)画圆"
   ]
  },
  {
   "cell_type": "code",
   "execution_count": 23,
   "metadata": {},
   "outputs": [],
   "source": [
    "import turtle # 引用turtle 库\n",
    "turtle.pensize(2) # 设置画笔宽度为2 像素\n",
    "turtle.circle(10) # 绘制半径为10 像素的圆\n",
    "turtle.circle(40) # 绘制半径为40 像素的圆\n",
    "turtle.circle(80) # 绘制半径为80 像素的圆\n",
    "turtle.circle(160) # 绘制半径为160 像素的圆\n"
   ]
  },
  {
   "cell_type": "markdown",
   "metadata": {},
   "source": [
    "#### 扩展练习：尝试不同宽度和半径，如果宽度和半径是浮点数会怎么样？如果两个数字分别是负数会怎么样？如果你在上述代码后面再加几行不同半径不同宽度的代码，会出现什么情况？"
   ]
  },
  {
   "cell_type": "markdown",
   "metadata": {},
   "source": [
    "#### 【微实例1.5】日期和时间的输出"
   ]
  },
  {
   "cell_type": "code",
   "execution_count": 24,
   "metadata": {},
   "outputs": [
    {
     "name": "stdout",
     "output_type": "stream",
     "text": [
      "2021-03-20 19:30:12.225349\n"
     ]
    },
    {
     "data": {
      "text/plain": [
       "'19:30:12'"
      ]
     },
     "execution_count": 24,
     "metadata": {},
     "output_type": "execute_result"
    }
   ],
   "source": [
    "from datetime import datetime # 引用datetime 库\n",
    "now = datetime.now() # 获得当前日期和时间信息\n",
    "print(now)\n",
    "now.strftime(\"%x\") # 输出其中的日期部分\n",
    "now.strftime(\"%X\") # 输出其中的时间部分"
   ]
  },
  {
   "cell_type": "markdown",
   "metadata": {},
   "source": [
    "扩展训练：查阅https://docs.python.org/zh-cn/3/library/datetime.html\n",
    "\n",
    "或者百度\n",
    "\n",
    "以now.strftime()函数看出现在的时间是AM还是PM"
   ]
  },
  {
   "cell_type": "code",
   "execution_count": 25,
   "metadata": {},
   "outputs": [],
   "source": [
    "from datetime import datetime\n",
    "#请补充"
   ]
  },
  {
   "cell_type": "markdown",
   "metadata": {},
   "source": [
    "#### 【微实例1.6】字符串拼接 \n",
    "字符串拼接。接收用户输入的两个字符串，将它们组合后输出。"
   ]
  },
  {
   "cell_type": "code",
   "execution_count": 26,
   "metadata": {},
   "outputs": [
    {
     "name": "stdout",
     "output_type": "stream",
     "text": [
      "请输入一个人的名字：艾伦\n",
      "请输入一个国家名字：马莱\n",
      "世界这么大，艾伦想去马莱看看。\n"
     ]
    }
   ],
   "source": [
    "str1 = input(\"请输入一个人的名字：\")\n",
    "str2 = input(\"请输入一个国家名字：\")\n",
    "print(\"世界这么大，{}想去{}看看。\".format(str1,str2))"
   ]
  },
  {
   "cell_type": "markdown",
   "metadata": {},
   "source": [
    "还记得format函数的作用吗？str.format()是一种格式化字符串的函数"
   ]
  },
  {
   "cell_type": "code",
   "execution_count": 27,
   "metadata": {},
   "outputs": [
    {
     "name": "stdout",
     "output_type": "stream",
     "text": [
      "hello world\n",
      "hello world\n",
      "world hello world\n"
     ]
    }
   ],
   "source": [
    "print(\"{} {}\".format(\"hello\", \"world\"))    # 不设置指定位置，按默认顺序\n",
    "\n",
    "print(\"{0} {1}\".format(\"hello\", \"world\"))  # 设置指定位置\n",
    "\n",
    "print(\"{1} {0} {1}\".format(\"hello\", \"world\"))  # 设置指定位置"
   ]
  },
  {
   "cell_type": "markdown",
   "metadata": {},
   "source": [
    "#### 【微实例1.7】整数序列求和\n",
    "整数序列求和。用户输入一个正整数 $N$, 计算从 1 到 $N$ (包含 1 和 $N$ ) 相 加之后的结果。"
   ]
  },
  {
   "cell_type": "code",
   "execution_count": 28,
   "metadata": {},
   "outputs": [
    {
     "name": "stdout",
     "output_type": "stream",
     "text": [
      "请输入整数N: 123\n",
      "1 到N 求和结果:  7626\n"
     ]
    }
   ],
   "source": [
    "n = input(\"请输入整数N: \")\n",
    "sum = 0\n",
    "for i in range(int(n)):\n",
    "    sum += i + 1\n",
    "print(\"1 到N 求和结果: \", sum)"
   ]
  },
  {
   "cell_type": "markdown",
   "metadata": {},
   "source": [
    "#### 扩展练习：N=12345的时候的结果是？如果输入浮点数12345.6，结果会是怎样的？为什么？"
   ]
  },
  {
   "cell_type": "code",
   "execution_count": null,
   "metadata": {},
   "outputs": [],
   "source": []
  },
  {
   "cell_type": "markdown",
   "metadata": {},
   "source": [
    "#### 【微实例1.8】九九乘法表输出\n",
    "九九乘法表输出。工整打印输出常用的九九乘法表，格式不限。"
   ]
  },
  {
   "cell_type": "code",
   "execution_count": 29,
   "metadata": {},
   "outputs": [
    {
     "name": "stdout",
     "output_type": "stream",
     "text": [
      "1*1= 1 \n",
      "1*2= 2 2*2= 4 \n",
      "1*3= 3 2*3= 6 3*3= 9 \n",
      "1*4= 4 2*4= 8 3*4=12 4*4=16 \n",
      "1*5= 5 2*5=10 3*5=15 4*5=20 5*5=25 \n",
      "1*6= 6 2*6=12 3*6=18 4*6=24 5*6=30 6*6=36 \n",
      "1*7= 7 2*7=14 3*7=21 4*7=28 5*7=35 6*7=42 7*7=49 \n",
      "1*8= 8 2*8=16 3*8=24 4*8=32 5*8=40 6*8=48 7*8=56 8*8=64 \n",
      "1*9= 9 2*9=18 3*9=27 4*9=36 5*9=45 6*9=54 7*9=63 8*9=72 9*9=81 \n"
     ]
    }
   ],
   "source": [
    "for i in range(1,10):\n",
    "    for j in range(1,i+1):\n",
    "        print(\"{}*{}={:2} \".format(j,i,i*j), end='')\n",
    "    print('')"
   ]
  },
  {
   "cell_type": "markdown",
   "metadata": {},
   "source": [
    "#### 扩展练习：你能够理解format括号里的{:2}吗？删掉最后一行代码会怎样？"
   ]
  },
  {
   "cell_type": "markdown",
   "metadata": {},
   "source": [
    "#### 【微实例1.9】阶乘求和\n",
    "计算 $1+2 !+3 !+\\cdots+10 !$ 的结果"
   ]
  },
  {
   "cell_type": "code",
   "execution_count": 30,
   "metadata": {},
   "outputs": [
    {
     "name": "stdout",
     "output_type": "stream",
     "text": [
      "运算结果是: 4037913\n"
     ]
    }
   ],
   "source": [
    "sum, tmp = 0, 1\n",
    "for i in range(1,11):\n",
    "    tmp*=i\n",
    "    sum+=tmp\n",
    "print(\"运算结果是: {}\".format(sum))"
   ]
  },
  {
   "cell_type": "markdown",
   "metadata": {},
   "source": [
    "#### 扩展训练：你能够打印出来运算过程吗？\n",
    "如：\n",
    "\n",
    "1  =  1  +  0\n",
    "\n",
    "3  =  2  +  1\n",
    "\n",
    "9  =  6  +  3\n",
    "\n",
    "33  =  24  +  9\n",
    "\n",
    "153  =  120  +  33\n",
    "\n",
    "873  =  720  +  153\n",
    "\n",
    "5913  =  5040  +  873\n",
    "\n",
    "46233  =  40320  +  5913\n",
    "\n",
    "409113  =  362880  +  46233\n",
    "\n",
    "4037913  =  3628800  +  409113"
   ]
  },
  {
   "cell_type": "code",
   "execution_count": 31,
   "metadata": {},
   "outputs": [
    {
     "name": "stdout",
     "output_type": "stream",
     "text": [
      "运算结果是: 4037913\n"
     ]
    }
   ],
   "source": [
    "#请填充和优化注释行的代码\n",
    "sum, tmp, sum_tmp = 0, 1, 0 #利用自定义的temp变量\n",
    "for i in range(1,11):\n",
    "    tmp*=i\n",
    "    #sum_tmp = \n",
    "    sum+=tmp\n",
    "    #print()\n",
    "print(\"运算结果是: {}\".format(sum))"
   ]
  },
  {
   "cell_type": "markdown",
   "metadata": {},
   "source": [
    "#### 【微实例1.10】猴子吃桃问题\n",
    "猴子第一天摘下若干个桃子，当即吃了一半，还不过痕, 又多吃了一个: 第二天早上又将剩下的桃子吃掉一半，又多吃了一个。以后每天早 上都吃了前一天剩下的一半多一个。到第五天早上想再吃时，见只剩下一个桃子了。 请编写程序计算猴子第一天共摘了多少桃子。"
   ]
  },
  {
   "cell_type": "code",
   "execution_count": 32,
   "metadata": {},
   "outputs": [
    {
     "name": "stdout",
     "output_type": "stream",
     "text": [
      "94\n"
     ]
    }
   ],
   "source": [
    "n = 1\n",
    "for i in range(5,0,-1):\n",
    "    n = (n+1)<<1\n",
    "print(n)"
   ]
  },
  {
   "cell_type": "markdown",
   "metadata": {},
   "source": [
    "#### 【微实例1.11】健康食谱输出\n",
    "健康食谱输出。列出 5 种不同食材，输出它们可能组成的所有菜式名称。"
   ]
  },
  {
   "cell_type": "code",
   "execution_count": 33,
   "metadata": {},
   "outputs": [
    {
     "name": "stdout",
     "output_type": "stream",
     "text": [
      "西红柿花椰菜\n",
      "西红柿黄瓜\n",
      "西红柿牛排\n",
      "西红柿虾仁\n",
      "花椰菜西红柿\n",
      "花椰菜黄瓜\n",
      "花椰菜牛排\n",
      "花椰菜虾仁\n",
      "黄瓜西红柿\n",
      "黄瓜花椰菜\n",
      "黄瓜牛排\n",
      "黄瓜虾仁\n",
      "牛排西红柿\n",
      "牛排花椰菜\n",
      "牛排黄瓜\n",
      "牛排虾仁\n",
      "虾仁西红柿\n",
      "虾仁花椰菜\n",
      "虾仁黄瓜\n",
      "虾仁牛排\n"
     ]
    }
   ],
   "source": [
    "diet = ['西红柿', '花椰菜', '黄瓜', '牛排', '虾仁']\n",
    "for x in range(0, 5):\n",
    "    for y in range(0, 5):\n",
    "        if not(x == y):\n",
    "            print(\"{}{}\".format(diet[x], diet[y]))"
   ]
  },
  {
   "cell_type": "markdown",
   "metadata": {},
   "source": [
    "#### 扩展训练：\n",
    "\n",
    "每天吃这些菜太单调了啊喂，可以来点新花样吗？你可以打印出你最喜欢的菜式组合吗？有些组合比如黄瓜虾仁，虾仁黄瓜，好像没什么区别欸！你知道怎么去掉吗？"
   ]
  },
  {
   "cell_type": "markdown",
   "metadata": {},
   "source": [
    "#### 【微实例1.12】五角星绘制"
   ]
  },
  {
   "cell_type": "code",
   "execution_count": 34,
   "metadata": {},
   "outputs": [],
   "source": [
    "from turtle import *\n",
    "fillcolor(\"red\")\n",
    "begin_fill()\n",
    "while True:\n",
    "    forward(200)\n",
    "    right(144)\n",
    "    if abs(pos()) < 1:\n",
    "        break\n",
    "end_fill()"
   ]
  },
  {
   "cell_type": "markdown",
   "metadata": {},
   "source": [
    "#### 【微实例1.13】太阳花绘制"
   ]
  },
  {
   "cell_type": "code",
   "execution_count": 35,
   "metadata": {},
   "outputs": [],
   "source": [
    "from turtle import *\n",
    "color('red', 'yellow')\n",
    "begin_fill()\n",
    "while True:\n",
    "    forward(200)\n",
    "    left(170)\n",
    "    if abs(pos()) < 1:\n",
    "       break\n",
    "end_fill()\n",
    "done()"
   ]
  },
  {
   "cell_type": "markdown",
   "metadata": {},
   "source": [
    "#### 扩展训练：画个皮卡丘，观察箭头的方向\n",
    "直接借鉴这位博主的代码，跑通就行哦！也可以用其他网上的代码，但记得一定要在注释上引用原文链接，这是基本准则！！"
   ]
  },
  {
   "cell_type": "code",
   "execution_count": null,
   "metadata": {},
   "outputs": [],
   "source": [
    "#版权声明：本文为CSDN博主「冰柚子」的原创文章，遵循CC 4.0 BY-SA版权协议，转载请附上原文出处链接及本声明。\n",
    "''' 原文链接：\n",
    "    https://blog.csdn.net/qq_45110581/article/details/105025463\n",
    "'''\n"
   ]
  },
  {
   "cell_type": "markdown",
   "metadata": {},
   "source": [
    "#### 练习题"
   ]
  },
  {
   "cell_type": "markdown",
   "metadata": {},
   "source": [
    "#### 距离转化：\n",
    "通常英里miles和公里kilometers的计算方式是约等于 kilometers = (miles * 8.0) / 5.0\n",
    "你能计算出输入英里，然后输出公里吗？反之，你能够输入公里，输出英里吗？\n",
    "一般来说，数值是浮点数。"
   ]
  },
  {
   "cell_type": "code",
   "execution_count": null,
   "metadata": {},
   "outputs": [],
   "source": []
  }
 ],
 "metadata": {
  "kernelspec": {
   "display_name": "Python 3",
   "language": "python",
   "name": "python3"
  },
  "language_info": {
   "codemirror_mode": {
    "name": "ipython",
    "version": 3
   },
   "file_extension": ".py",
   "mimetype": "text/x-python",
   "name": "python",
   "nbconvert_exporter": "python",
   "pygments_lexer": "ipython3",
   "version": "3.7.0"
  }
 },
 "nbformat": 4,
 "nbformat_minor": 4
}
